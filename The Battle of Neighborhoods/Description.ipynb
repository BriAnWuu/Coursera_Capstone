{
 "cells": [
  {
   "cell_type": "markdown",
   "source": [
    "# Capstone Project Report – The Battle of Neighbourhoods in Chicago"
   ],
   "metadata": {}
  },
  {
   "cell_type": "markdown",
   "source": [
    "## Introduction/Business Problem"
   ],
   "metadata": {}
  },
  {
   "cell_type": "markdown",
   "source": [
    "A sushi franchise owner is seeking perfect locations to open branches where he can intorduce the finest sushi to the residents of the city. However, he is new to the city and couldn't decide where to set root for the business to grow. The three rules for starting a business are 1)location, 2)location, and 3)location! Therefore, he seeks help from data scientists and engineers to solve the problem that could be the deciding factor to this expansion."
   ],
   "metadata": {}
  },
  {
   "cell_type": "markdown",
   "source": [
    "## Data"
   ],
   "metadata": {}
  },
  {
   "cell_type": "markdown",
   "source": [
    "Retriving postal and geolocation data from wikipedia for locating the neighbourhoods in Chicago.\n",
    "Use Foursquare API to explore venues in the neighbourhoods for analysis.\n",
    "Use Foursquare API to search for sushi restaurants in the neighbourhoods.\n",
    "Use Foursquare API to extract number of users who have liked the restaurants."
   ],
   "metadata": {}
  },
  {
   "cell_type": "code",
   "execution_count": 93,
   "source": [
    "import bs4\n",
    "from bs4 import BeautifulSoup\n",
    "\n",
    "import requests\n",
    "\n",
    "import pandas as pd\n",
    "\n",
    "import re"
   ],
   "outputs": [],
   "metadata": {}
  },
  {
   "cell_type": "code",
   "execution_count": 67,
   "source": [
    "url = 'https://en.wikipedia.org/wiki/Community_areas_in_Chicago'\n",
    "data = requests.get(url).text # send GET request and store as text data\n",
    "my_soup = BeautifulSoup(data, 'html5lib') # parse the data with beautifulsoup\n",
    "\n",
    "# search for target table\n",
    "tables = my_soup.find_all('table')\n",
    "\n",
    "for index, table in enumerate(tables):\n",
    "    if 'Chicago community areas by number, population, and area' in str(table): # find the string in our target table that is unique to the other tables\n",
    "        target_table_index = index\n",
    "print('There are {} tables found.\\nTarget Table Index : {}'.format(index + 1, target_table_index))"
   ],
   "outputs": [
    {
     "output_type": "stream",
     "name": "stdout",
     "text": [
      "There are 4 tables found.\n",
      "Target Table Index : 0\n"
     ]
    }
   ],
   "metadata": {}
  },
  {
   "cell_type": "code",
   "execution_count": 100,
   "source": [
    "# convert DMS coordinate to decimal\n",
    "def dms2dd(s):\n",
    "    if '″' in s:\n",
    "        degrees, minutes, seconds, direction = re.split('[°′″]+', s)\n",
    "        dd = float(degrees) + float(minutes)/60 + float(seconds)/(60*60)\n",
    "        if direction in ('S','W'):\n",
    "            dd*= -1\n",
    "\n",
    "    else:\n",
    "        degrees, minutes, direction = re.split('[°′]+', s)\n",
    "        dd = float(degrees) + float(minutes)/60\n",
    "        if direction in ('S','W'):\n",
    "            dd*= -1\n",
    "\n",
    "    return dd\n",
    "\n",
    "# get coordinate from wiki sub page\n",
    "def get_coordinate(row, name):\n",
    "    link = 'https://en.wikipedia.org' + row.find('a')['href']\n",
    "    data = requests.get(link).text\n",
    "    sub_soup = BeautifulSoup(data,'html5lib')\n",
    "\n",
    "    table = sub_soup.find('table', {'class':'infobox geography vcard'})\n",
    "    latitude = table.find('span', {'class':'latitude'}).getText()\n",
    "    longitude = table.find('span', {'class':'longitude'}).getText()\n",
    "\n",
    "    latitude = dms2dd(latitude)\n",
    "    longitude = dms2dd(longitude)\n",
    "\n",
    "    return latitude, longitude\n",
    "\n",
    "# create dataframe then append contents from wikipedia : https://en.wikipedia.org/wiki/Community_areas_in_Chicago\n",
    "community_df =  pd.DataFrame(columns = ['No.', 'Name', 'Latitude', 'Longitude'])\n",
    "\n",
    "for count, row in enumerate(tables[target_table_index].tbody.find_all('tr')):\n",
    "    if count > 1 and count < 79:\n",
    "        number = row.find('td').getText().replace('\\n', '')\n",
    "        name = row.find('a').getText()\n",
    "\n",
    "        latitude, longitude = get_coordinate(row, name)\n",
    "\n",
    "        community_df = community_df.append({'No.' : number, 'Name' : name, 'Latitude' : latitude, 'Longitude' : longitude}, ignore_index = True)\n",
    "\n",
    "community_df"
   ],
   "outputs": [
    {
     "output_type": "execute_result",
     "data": {
      "text/plain": [
       "   No.                 Name   Latitude  Longitude\n",
       "0   01          Rogers Park  42.010000 -87.670000\n",
       "1   02           West Ridge  42.000000 -87.690000\n",
       "2   03               Uptown  41.970000 -87.660000\n",
       "3   04       Lincoln Square  41.970000 -87.690000\n",
       "4   05         North Center  41.950000 -87.680000\n",
       "..  ..                  ...        ...        ...\n",
       "72  73   Washington Heights  41.703833 -87.653667\n",
       "73  74      Mount Greenwood  41.700000 -87.710000\n",
       "74  75          Morgan Park  41.690000 -87.670000\n",
       "75  76               O'Hare  42.000000 -87.920000\n",
       "76  77            Edgewater  41.990000 -87.660000\n",
       "\n",
       "[77 rows x 4 columns]"
      ],
      "text/html": [
       "<div>\n",
       "<style scoped>\n",
       "    .dataframe tbody tr th:only-of-type {\n",
       "        vertical-align: middle;\n",
       "    }\n",
       "\n",
       "    .dataframe tbody tr th {\n",
       "        vertical-align: top;\n",
       "    }\n",
       "\n",
       "    .dataframe thead th {\n",
       "        text-align: right;\n",
       "    }\n",
       "</style>\n",
       "<table border=\"1\" class=\"dataframe\">\n",
       "  <thead>\n",
       "    <tr style=\"text-align: right;\">\n",
       "      <th></th>\n",
       "      <th>No.</th>\n",
       "      <th>Name</th>\n",
       "      <th>Latitude</th>\n",
       "      <th>Longitude</th>\n",
       "    </tr>\n",
       "  </thead>\n",
       "  <tbody>\n",
       "    <tr>\n",
       "      <th>0</th>\n",
       "      <td>01</td>\n",
       "      <td>Rogers Park</td>\n",
       "      <td>42.010000</td>\n",
       "      <td>-87.670000</td>\n",
       "    </tr>\n",
       "    <tr>\n",
       "      <th>1</th>\n",
       "      <td>02</td>\n",
       "      <td>West Ridge</td>\n",
       "      <td>42.000000</td>\n",
       "      <td>-87.690000</td>\n",
       "    </tr>\n",
       "    <tr>\n",
       "      <th>2</th>\n",
       "      <td>03</td>\n",
       "      <td>Uptown</td>\n",
       "      <td>41.970000</td>\n",
       "      <td>-87.660000</td>\n",
       "    </tr>\n",
       "    <tr>\n",
       "      <th>3</th>\n",
       "      <td>04</td>\n",
       "      <td>Lincoln Square</td>\n",
       "      <td>41.970000</td>\n",
       "      <td>-87.690000</td>\n",
       "    </tr>\n",
       "    <tr>\n",
       "      <th>4</th>\n",
       "      <td>05</td>\n",
       "      <td>North Center</td>\n",
       "      <td>41.950000</td>\n",
       "      <td>-87.680000</td>\n",
       "    </tr>\n",
       "    <tr>\n",
       "      <th>...</th>\n",
       "      <td>...</td>\n",
       "      <td>...</td>\n",
       "      <td>...</td>\n",
       "      <td>...</td>\n",
       "    </tr>\n",
       "    <tr>\n",
       "      <th>72</th>\n",
       "      <td>73</td>\n",
       "      <td>Washington Heights</td>\n",
       "      <td>41.703833</td>\n",
       "      <td>-87.653667</td>\n",
       "    </tr>\n",
       "    <tr>\n",
       "      <th>73</th>\n",
       "      <td>74</td>\n",
       "      <td>Mount Greenwood</td>\n",
       "      <td>41.700000</td>\n",
       "      <td>-87.710000</td>\n",
       "    </tr>\n",
       "    <tr>\n",
       "      <th>74</th>\n",
       "      <td>75</td>\n",
       "      <td>Morgan Park</td>\n",
       "      <td>41.690000</td>\n",
       "      <td>-87.670000</td>\n",
       "    </tr>\n",
       "    <tr>\n",
       "      <th>75</th>\n",
       "      <td>76</td>\n",
       "      <td>O'Hare</td>\n",
       "      <td>42.000000</td>\n",
       "      <td>-87.920000</td>\n",
       "    </tr>\n",
       "    <tr>\n",
       "      <th>76</th>\n",
       "      <td>77</td>\n",
       "      <td>Edgewater</td>\n",
       "      <td>41.990000</td>\n",
       "      <td>-87.660000</td>\n",
       "    </tr>\n",
       "  </tbody>\n",
       "</table>\n",
       "<p>77 rows × 4 columns</p>\n",
       "</div>"
      ]
     },
     "metadata": {},
     "execution_count": 100
    }
   ],
   "metadata": {}
  },
  {
   "cell_type": "code",
   "execution_count": null,
   "source": [],
   "outputs": [],
   "metadata": {}
  }
 ],
 "metadata": {
  "orig_nbformat": 4,
  "language_info": {
   "name": "python",
   "version": "3.8.5",
   "mimetype": "text/x-python",
   "codemirror_mode": {
    "name": "ipython",
    "version": 3
   },
   "pygments_lexer": "ipython3",
   "nbconvert_exporter": "python",
   "file_extension": ".py"
  },
  "kernelspec": {
   "name": "python3",
   "display_name": "Python 3.8.5 64-bit ('base': conda)"
  },
  "interpreter": {
   "hash": "dca0ade3e726a953b501b15e8e990130d2b7799f14cfd9f4271676035ebe5511"
  }
 },
 "nbformat": 4,
 "nbformat_minor": 2
}