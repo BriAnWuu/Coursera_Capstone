{
 "cells": [
  {
   "cell_type": "markdown",
   "source": [
    "# Capstone Project Report – The Battle of Neighbourhoods in Chicago"
   ],
   "metadata": {}
  },
  {
   "cell_type": "markdown",
   "source": [
    "## Introduction/Business Problem"
   ],
   "metadata": {}
  },
  {
   "cell_type": "markdown",
   "source": [
    "A sushi franchise owner is seeking perfect locations to open branches where he can intorduce the finest sushi to the residents of the city. However, he is new to the city and couldn't decide where to set root for the business to grow. The three rules for starting a business are 1)location, 2)location, and 3)location! Therefore, he seeks help from data scientists and engineers to solve the problem that could be the deciding factor to this expansion."
   ],
   "metadata": {}
  },
  {
   "cell_type": "markdown",
   "source": [
    "## Data"
   ],
   "metadata": {}
  },
  {
   "cell_type": "markdown",
   "source": [
    "Retriving postal and geolocation data from wikipedia for locating the neighbourhoods in Chicago.\n",
    "Use Foursquare API to explore venues in the neighbourhoods for analysis.\n",
    "Use Foursquare API to search for sushi restaurants in the neighbourhoods.\n",
    "Use Foursquare API to extract number of users who have liked the restaurants."
   ],
   "metadata": {}
  },
  {
   "cell_type": "code",
   "execution_count": 66,
   "source": [
    "import bs4\n",
    "from bs4 import BeautifulSoup\n",
    "import requests\n",
    "import pandas as pd"
   ],
   "outputs": [],
   "metadata": {}
  },
  {
   "cell_type": "code",
   "execution_count": 67,
   "source": [
    "url = 'https://en.wikipedia.org/wiki/Community_areas_in_Chicago'\n",
    "data = requests.get(url).text # send GET request and store as text data\n",
    "my_soup = BeautifulSoup(data, 'html5lib') # parse the data with beautifulsoup\n",
    "\n",
    "# search for target table\n",
    "tables = my_soup.find_all('table')\n",
    "\n",
    "for index, table in enumerate(tables):\n",
    "    if 'Chicago community areas by number, population, and area' in str(table): # find the string in our target table that is unique to the other tables\n",
    "        target_table_index = index\n",
    "print('There are {} tables found.\\nTarget Table Index : {}'.format(index + 1, target_table_index))"
   ],
   "outputs": [
    {
     "output_type": "stream",
     "name": "stdout",
     "text": [
      "There are 4 tables found.\n",
      "Target Table Index : 0\n"
     ]
    }
   ],
   "metadata": {}
  },
  {
   "cell_type": "code",
   "execution_count": 68,
   "source": [
    "community_df =  pd.DataFrame(columns = ['No.', 'Name', 'Latitude', 'Longitude'])\n",
    "\n",
    "for count, row in enumerate(tables[target_table_index].tbody.find_all('tr')):\n",
    "    if count > 1:\n",
    "        number = row.find('td').getText().replace('\\n', '')\n",
    "        name = row.find('a').getText().replace('\\n', '')\n",
    "        community_df = community_df.append({'No.' : number, 'Name' : name}, ignore_index = True)\n",
    "\n",
    "community_df.drop([count - 2], inplace = True)\n",
    "community_df"
   ],
   "outputs": [
    {
     "output_type": "execute_result",
     "data": {
      "text/plain": [
       "   No.                 Name Latitude Longitude\n",
       "0   01          Rogers Park      NaN       NaN\n",
       "1   02           West Ridge      NaN       NaN\n",
       "2   03               Uptown      NaN       NaN\n",
       "3   04       Lincoln Square      NaN       NaN\n",
       "4   05         North Center      NaN       NaN\n",
       "..  ..                  ...      ...       ...\n",
       "72  73   Washington Heights      NaN       NaN\n",
       "73  74      Mount Greenwood      NaN       NaN\n",
       "74  75          Morgan Park      NaN       NaN\n",
       "75  76               O'Hare      NaN       NaN\n",
       "76  77            Edgewater      NaN       NaN\n",
       "\n",
       "[77 rows x 4 columns]"
      ],
      "text/html": [
       "<div>\n",
       "<style scoped>\n",
       "    .dataframe tbody tr th:only-of-type {\n",
       "        vertical-align: middle;\n",
       "    }\n",
       "\n",
       "    .dataframe tbody tr th {\n",
       "        vertical-align: top;\n",
       "    }\n",
       "\n",
       "    .dataframe thead th {\n",
       "        text-align: right;\n",
       "    }\n",
       "</style>\n",
       "<table border=\"1\" class=\"dataframe\">\n",
       "  <thead>\n",
       "    <tr style=\"text-align: right;\">\n",
       "      <th></th>\n",
       "      <th>No.</th>\n",
       "      <th>Name</th>\n",
       "      <th>Latitude</th>\n",
       "      <th>Longitude</th>\n",
       "    </tr>\n",
       "  </thead>\n",
       "  <tbody>\n",
       "    <tr>\n",
       "      <th>0</th>\n",
       "      <td>01</td>\n",
       "      <td>Rogers Park</td>\n",
       "      <td>NaN</td>\n",
       "      <td>NaN</td>\n",
       "    </tr>\n",
       "    <tr>\n",
       "      <th>1</th>\n",
       "      <td>02</td>\n",
       "      <td>West Ridge</td>\n",
       "      <td>NaN</td>\n",
       "      <td>NaN</td>\n",
       "    </tr>\n",
       "    <tr>\n",
       "      <th>2</th>\n",
       "      <td>03</td>\n",
       "      <td>Uptown</td>\n",
       "      <td>NaN</td>\n",
       "      <td>NaN</td>\n",
       "    </tr>\n",
       "    <tr>\n",
       "      <th>3</th>\n",
       "      <td>04</td>\n",
       "      <td>Lincoln Square</td>\n",
       "      <td>NaN</td>\n",
       "      <td>NaN</td>\n",
       "    </tr>\n",
       "    <tr>\n",
       "      <th>4</th>\n",
       "      <td>05</td>\n",
       "      <td>North Center</td>\n",
       "      <td>NaN</td>\n",
       "      <td>NaN</td>\n",
       "    </tr>\n",
       "    <tr>\n",
       "      <th>...</th>\n",
       "      <td>...</td>\n",
       "      <td>...</td>\n",
       "      <td>...</td>\n",
       "      <td>...</td>\n",
       "    </tr>\n",
       "    <tr>\n",
       "      <th>72</th>\n",
       "      <td>73</td>\n",
       "      <td>Washington Heights</td>\n",
       "      <td>NaN</td>\n",
       "      <td>NaN</td>\n",
       "    </tr>\n",
       "    <tr>\n",
       "      <th>73</th>\n",
       "      <td>74</td>\n",
       "      <td>Mount Greenwood</td>\n",
       "      <td>NaN</td>\n",
       "      <td>NaN</td>\n",
       "    </tr>\n",
       "    <tr>\n",
       "      <th>74</th>\n",
       "      <td>75</td>\n",
       "      <td>Morgan Park</td>\n",
       "      <td>NaN</td>\n",
       "      <td>NaN</td>\n",
       "    </tr>\n",
       "    <tr>\n",
       "      <th>75</th>\n",
       "      <td>76</td>\n",
       "      <td>O'Hare</td>\n",
       "      <td>NaN</td>\n",
       "      <td>NaN</td>\n",
       "    </tr>\n",
       "    <tr>\n",
       "      <th>76</th>\n",
       "      <td>77</td>\n",
       "      <td>Edgewater</td>\n",
       "      <td>NaN</td>\n",
       "      <td>NaN</td>\n",
       "    </tr>\n",
       "  </tbody>\n",
       "</table>\n",
       "<p>77 rows × 4 columns</p>\n",
       "</div>"
      ]
     },
     "metadata": {},
     "execution_count": 68
    }
   ],
   "metadata": {}
  },
  {
   "cell_type": "code",
   "execution_count": null,
   "source": [],
   "outputs": [],
   "metadata": {}
  }
 ],
 "metadata": {
  "orig_nbformat": 4,
  "language_info": {
   "name": "python",
   "version": "3.8.5",
   "mimetype": "text/x-python",
   "codemirror_mode": {
    "name": "ipython",
    "version": 3
   },
   "pygments_lexer": "ipython3",
   "nbconvert_exporter": "python",
   "file_extension": ".py"
  },
  "kernelspec": {
   "name": "python3",
   "display_name": "Python 3.8.5 64-bit ('base': conda)"
  },
  "interpreter": {
   "hash": "dca0ade3e726a953b501b15e8e990130d2b7799f14cfd9f4271676035ebe5511"
  }
 },
 "nbformat": 4,
 "nbformat_minor": 2
}